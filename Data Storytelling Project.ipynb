{
 "cells": [
  {
   "cell_type": "markdown",
   "metadata": {},
   "source": [
    "# Data Storytelling: Food Production and Supply in Africa (2004-2013)"
   ]
  },
  {
   "cell_type": "markdown",
   "metadata": {},
   "source": [
    "## Introduction\n",
    "\n",
    "Using the food production and consumption/supply dataset, the aim of this project is to craft a story of the food shortage problem in Africa using appropriate visuals making each variable in the dataset purposeful. This analysis will contain visualisation and narratives so as to show:\n",
    "* Trends in food production and consumption over the years.\n",
    "* Average and median food production, the outliers, Quartile and interquartile ranges.\n",
    "* A comparison between average food consumption and production for each year."
   ]
  },
  {
   "cell_type": "code",
   "execution_count": null,
   "metadata": {},
   "outputs": [],
   "source": [
    "# Import plotting libraries\n",
    "\n",
    "import pandas as pd\n",
    "import numpy as np\n",
    "import matplotlib.pyplot as plt\n",
    "%matplotlib inline\n",
    "import seaborn as sns\n",
    "import plotly.express as px\n",
    "import plotly.graph_objects as go"
   ]
  },
  {
   "cell_type": "markdown",
   "metadata": {},
   "source": [
    " ## Food Production"
   ]
  },
  {
   "cell_type": "code",
   "execution_count": null,
   "metadata": {},
   "outputs": [],
   "source": [
    "# opening the production dataset and viewing the first 5 rows\n",
    "\n",
    "foodprod = pd.read_csv('Africa Food Production.csv')\n",
    "foodprod.head()"
   ]
  },
  {
   "cell_type": "markdown",
   "metadata": {},
   "source": [
    "> ### Data Cleaning and Wrangling"
   ]
  },
  {
   "cell_type": "code",
   "execution_count": null,
   "metadata": {},
   "outputs": [],
   "source": [
    "# information on the food production dataset\n",
    "\n",
    "foodprod.info()\n",
    "\n",
    "# The dataset contains 23110 rows amd 4 columns\n",
    "# There are no null or missing values in any of its rows."
   ]
  },
  {
   "cell_type": "code",
   "execution_count": null,
   "metadata": {},
   "outputs": [],
   "source": [
    "# Checking for the number of unique items produced by all countries\n",
    "\n",
    "print(foodprod.Item.nunique())\n",
    "\n",
    "foodprod.Item.unique()\n",
    "\n",
    "# There are 94 unique items produced by different African countries"
   ]
  },
  {
   "cell_type": "code",
   "execution_count": null,
   "metadata": {},
   "outputs": [],
   "source": [
    "# Descriptive statistics of the food production dataset\n",
    "\n",
    "foodprod.describe()"
   ]
  },
  {
   "cell_type": "markdown",
   "metadata": {},
   "source": [
    "> ### Data Exploration and Visualisation"
   ]
  },
  {
   "cell_type": "code",
   "execution_count": null,
   "metadata": {
    "scrolled": false
   },
   "outputs": [],
   "source": [
    "# grouping by country, year and item to get the total production per item\n",
    "\n",
    "foodprod_sum = foodprod.groupby(['Country', 'Year', 'Item'])['Value'].sum()\n",
    "foodprod_sum"
   ]
  },
  {
   "cell_type": "code",
   "execution_count": null,
   "metadata": {},
   "outputs": [],
   "source": [
    "# grouping by country and year to get the total food production per year\n",
    "\n",
    "foodprod_tot = pd.DataFrame(foodprod.groupby(['Country', 'Year'], as_index = False)['Value'].sum())\n",
    "foodprod_tot\n",
    "\n",
    "# Algeria is seen to be the Country with the highest food production per year"
   ]
  },
  {
   "cell_type": "code",
   "execution_count": null,
   "metadata": {},
   "outputs": [],
   "source": [
    "# Sorting by total values in descending order\n",
    "foodprod_grouped = foodprod_tot.sort_values(by = 'Value', ascending=False)\n",
    "\n",
    "# Visualising with a line chart the trend  from 2004 - 2013 of total items produced per country\n",
    "plt.subplots(figsize=(15,10))\n",
    "lineplt = sns.lineplot(x=foodprod_grouped['Year'], y= foodprod_grouped['Value'], hue=foodprod_grouped['Country'], palette = 'bright', data=foodprod_grouped, ci=None )\n",
    "lineplt.set_yscale('log')\n",
    "lineplt.legend(loc='upper right',bbox_to_anchor= (1.2, 1))\n",
    "\n",
    "# Defining the title of the plot, xaxis and yaxis.\n",
    "plt.title('Total Food Production per Country from 2004 - 2013')\n",
    "plt.xlabel('Year', fontsize = 12)\n",
    "plt.ylabel('Total Food Produced', fontsize = 12);"
   ]
  },
  {
   "cell_type": "markdown",
   "metadata": {},
   "source": [
    "> It can be observed that Nigeria, Egypt and South Africa are the highest food producing countries between 2004 - 2013.\n",
    "> It can also be seen that Cabo Verde, Sao Tome and Principe, Djibouti are the lowest food producing countries between 2004 - 2013.\n",
    "\n",
    "> To effectively observe the change in the food production trend per country between 2004-2013, the data will be visualised using a map. To do this;\n",
    ">> * A country code dataset will be imported and merged with the food production dataset.\n",
    ">> * This newly merged dataset will then be used to create a map visualization using the `plotly.express` library. "
   ]
  },
  {
   "cell_type": "code",
   "execution_count": null,
   "metadata": {},
   "outputs": [],
   "source": [
    "# Importing the country code dataset \n",
    "\n",
    "code = pd.read_csv('2014_world_gdp_with_codes.txt')\n",
    "code.head()"
   ]
  },
  {
   "cell_type": "code",
   "execution_count": null,
   "metadata": {},
   "outputs": [],
   "source": [
    "# Dropping and renaming columns in the country code dataset to fit the column names in the food production dataset\n",
    "\n",
    "code.columns = ['Country', 'Gdp(billions)','Country Code']\n",
    "\n",
    "# dropping unwanted column \n",
    "code.drop('Gdp(billions)', axis=1, inplace=True)\n",
    "code.head()"
   ]
  },
  {
   "cell_type": "code",
   "execution_count": null,
   "metadata": {},
   "outputs": [],
   "source": [
    "# Merging the country code dataset with the food production dataset\n",
    "\n",
    "merged_prod = pd.merge(foodprod_grouped, code, on ='Country', how = 'inner')\n",
    "merged_prod.head()"
   ]
  },
  {
   "cell_type": "code",
   "execution_count": null,
   "metadata": {},
   "outputs": [],
   "source": [
    "# Creating the map visualisation for the food production of African countries between 2004 and 2013\n",
    "\n",
    "fig = px.choropleth(merged_prod, locations=\"Country Code\", \n",
    "                    color='Value', \n",
    "                    hover_name=\"Country\",  \n",
    "                    animation_frame='Year',\n",
    "                    scope=\"africa\",\n",
    "                    color_continuous_scale = px.colors.sequential.Purpor\n",
    "                   )\n",
    "fig.update_geos(fitbounds=\"locations\", visible=False)\n",
    "fig.update_layout(margin={\"r\":0,\"t\":0,\"l\":0,\"b\":0})\n",
    "fig.show()"
   ]
  },
  {
   "cell_type": "markdown",
   "metadata": {},
   "source": [
    "> ### Statistics"
   ]
  },
  {
   "cell_type": "code",
   "execution_count": null,
   "metadata": {},
   "outputs": [],
   "source": [
    "# Creating a boxplot for the food production per country from 2004-2013\n",
    "\n",
    "fig = go.Figure()\n",
    "fig.add_trace(go.Box(y = foodprod_grouped.Value,\n",
    "                     x= foodprod_grouped.Year,\n",
    "                     boxpoints = \"suspectedoutliers\",\n",
    "                     boxmean = True,\n",
    "                     marker_color='rgb(9,56,125)',\n",
    "                     line_color='rgb(9,56,125)'\n",
    "))\n",
    "fig.update_layout(title_text=\"Food Production per Country from 2004-2013\", yaxis_title= \"Total Food Produced\", xaxis_title = \"Year\")\n",
    "fig.show()"
   ]
  },
  {
   "cell_type": "markdown",
   "metadata": {},
   "source": [
    "> From the boxplot above, it can be observed that there exists a number of outliers in the food produced for all the years from 2004-2013, with 2012 having the largest outlier. The dataset for the year 2012 will be explored to identify the outlier and other statistics including the mean, median, first quartile, third quartile and interquartile range."
   ]
  },
  {
   "cell_type": "code",
   "execution_count": null,
   "metadata": {},
   "outputs": [],
   "source": [
    "# Extracting the food production dataset for 2012 to be analysed\n",
    "\n",
    "foodprod_12 = foodprod.query('Year == 2012')\n",
    "foodprod_12.shape"
   ]
  },
  {
   "cell_type": "code",
   "execution_count": null,
   "metadata": {},
   "outputs": [],
   "source": [
    "# To find the mean of the food production in 2012\n",
    "\n",
    "foodprod_12m = foodprod_12.Value.mean()\n",
    "foodprod_12m"
   ]
  },
  {
   "cell_type": "code",
   "execution_count": null,
   "metadata": {},
   "outputs": [],
   "source": [
    "# To find the median of the food consumption in 2012\n",
    "foodprod_12med = foodprod_12.Value.median()\n",
    "foodprod_12med"
   ]
  },
  {
   "cell_type": "code",
   "execution_count": null,
   "metadata": {},
   "outputs": [],
   "source": [
    "# Using numpy to compute the quartile and interquartile range\n",
    "\n",
    "Q_3, Q_1 = np.percentile(foodprod_12.Value, [75 ,25])\n",
    "Q_3, Q_1"
   ]
  },
  {
   "cell_type": "code",
   "execution_count": null,
   "metadata": {},
   "outputs": [],
   "source": [
    "# Computing the interquartile range\n",
    "\n",
    "IQR_ = np.subtract(*np.percentile(foodprod_12.Value, [75 ,25]))\n",
    "IQR_"
   ]
  },
  {
   "cell_type": "code",
   "execution_count": null,
   "metadata": {},
   "outputs": [],
   "source": [
    "# Computing the upper and lower fence\n",
    "\n",
    "lower_fence = Q_1 - 1.5*IQR_\n",
    "upper_fence = Q_3 + 1.5*IQR_\n",
    "upper_fence, lower_fence"
   ]
  },
  {
   "cell_type": "code",
   "execution_count": null,
   "metadata": {},
   "outputs": [],
   "source": [
    "# Computing the outlier present in the total food consumption in 2012\n",
    "\n",
    "foodprod_12outliers = foodprod_12[(foodprod_12[\"Value\"] > upper_fence) | (foodprod_12['Value'] < lower_fence)]\n",
    "foodprod_12outliers"
   ]
  },
  {
   "cell_type": "code",
   "execution_count": null,
   "metadata": {},
   "outputs": [],
   "source": [
    "# Computing the number of countries that present an outlier\n",
    "foodprod_12outliers.Country.nunique()"
   ]
  },
  {
   "cell_type": "markdown",
   "metadata": {},
   "source": [
    "> It can be observed that for the food production in African countries in 2012, there are approximately 368 outliers from 38 different countries."
   ]
  },
  {
   "cell_type": "code",
   "execution_count": null,
   "metadata": {},
   "outputs": [],
   "source": [
    "# Visualizing with a scatterplot to see how the food production varied per country in 2012\n",
    "\n",
    "fig = px.scatter(foodprod_12, x=\"Country\", y=\"Value\")\n",
    "\n",
    "# adding horizontal lines to represent the mean, median, upper and lower fence.\n",
    "fig.update_layout(width=1200,\n",
    "                 height = 800,\n",
    "                 autosize=False, shapes=[\n",
    "                     #add lower fence, mean, median and upper fence lines\n",
    "                     dict(type= \"line\", xref= \"paper\", x0 = 0, x1 = 1, yref = \"y\", y0 = lower_fence, y1 = lower_fence, line = dict(color = 'Red', width = 1)),\n",
    "                     dict(type= \"line\", xref= \"paper\", x0 = 0, x1 = 1, yref = \"y\", y0 = foodprod_12m, y1 = foodprod_12m, line = dict(color = 'Orange', width = 1)),\n",
    "                     dict(type= \"line\", xref= \"paper\", x0 = 0, x1 = 1, yref = \"y\", y0 = foodprod_12med, y1 = foodprod_12med, line = dict(color = 'Blue', width = 1)),\n",
    "                     dict(type= \"line\", xref= \"paper\", x0 = 0, x1 = 1, yref = \"y\", y0 = upper_fence, y1 = upper_fence, line = dict(color = 'Green', width = 1))\n",
    "                 ], showlegend=False\n",
    "                 )\n",
    "\n",
    "fig.update_traces(textposition = \"top center\")\n",
    "fig.update_xaxes(showticklabels = False)\n",
    "fig.show()"
   ]
  },
  {
   "cell_type": "markdown",
   "metadata": {},
   "source": [
    "> From the scatterplot above, it can be observed that for 2012, indeed many outliers lie above the upper fence which is represented by the green line. "
   ]
  },
  {
   "cell_type": "markdown",
   "metadata": {},
   "source": [
    "## Food Supply"
   ]
  },
  {
   "cell_type": "code",
   "execution_count": null,
   "metadata": {},
   "outputs": [],
   "source": [
    "# Opening and viewing the first 5 rows of the food supply dataset\n",
    "\n",
    "foodsup = pd.read_csv('Africa Food Supply.csv')\n",
    "foodsup.head()"
   ]
  },
  {
   "cell_type": "markdown",
   "metadata": {},
   "source": [
    "> ### Data Wrangling"
   ]
  },
  {
   "cell_type": "code",
   "execution_count": null,
   "metadata": {},
   "outputs": [],
   "source": [
    "# Computing information about the food supply dataset\n",
    "\n",
    "foodsup.info()"
   ]
  },
  {
   "cell_type": "code",
   "execution_count": null,
   "metadata": {},
   "outputs": [],
   "source": [
    "# Computing the unique number of countries in the food supply dataset\n",
    "\n",
    "foodsup.Country.nunique()"
   ]
  },
  {
   "cell_type": "code",
   "execution_count": null,
   "metadata": {},
   "outputs": [],
   "source": [
    "# Grouping the supply dataset by country and year to get the total value of items supplied\n",
    "\n",
    "foodsup_tot = pd.DataFrame(foodsup.groupby(['Country', 'Year'], as_index = False).sum())\n",
    "foodsup_tot.head()"
   ]
  },
  {
   "cell_type": "code",
   "execution_count": null,
   "metadata": {},
   "outputs": [],
   "source": [
    "# Sorting by total values supplied in descending order\n",
    "foodsup_grouped = foodsup_tot.sort_values(by='Value', ascending=False)\n",
    "\n",
    "# Visualising with a line chart the trend  from 2004 - 2013 of total items supplied to each country\n",
    "plt.subplots(figsize=(15,10))\n",
    "lineplt1 = sns.lineplot(x=foodsup_grouped['Year'], y= foodsup_grouped['Value'], hue=foodsup_grouped['Country'], palette = 'bright', data=foodsup_grouped, ci=None )\n",
    "lineplt1.set_yscale('log')\n",
    "lineplt1.legend(loc='upper right',bbox_to_anchor= (1.2, 1))\n",
    "\n",
    "# Defining the title of the plot, xaxis and yaxis.\n",
    "plt.title('Total Supply Value per Year per Country')\n",
    "plt.xlabel('Year', fontsize = 12)\n",
    "plt.ylabel('Total Value', fontsize = 12);"
   ]
  },
  {
   "cell_type": "markdown",
   "metadata": {},
   "source": [
    "> It can be observed that Egypt, Morocco and Tunisia are the countries with the highest food supply between 2004 - 2013.\n",
    "> It can also be seen that Chad, Madagascar, Zambia are the lowest food producing countries between 2004 - 2013.\n",
    "\n",
    "> To effectively observe the change in the food supply trend per country between 2004-2013, the data will be visualised using a map. To do this;\n",
    "> * A country code dataset will be imported and merged with the food supply dataset.\n",
    "> * This newly merged dataset will then be used to create a map visualization using the `plotly.express` library. "
   ]
  },
  {
   "cell_type": "code",
   "execution_count": null,
   "metadata": {},
   "outputs": [],
   "source": [
    "# Merging the country code dataset with the food supply dataset\n",
    "\n",
    "merged_sup = pd.merge(foodsup_grouped, code, on ='Country', how = 'inner')\n",
    "merged_sup.head()"
   ]
  },
  {
   "cell_type": "code",
   "execution_count": null,
   "metadata": {},
   "outputs": [],
   "source": [
    "# Creating the map visualisation for the food supply in African countries between 2004 and 2013\n",
    "\n",
    "fig = px.choropleth(merged_sup, locations=\"Country Code\", \n",
    "                    color='Value', \n",
    "                    hover_name=\"Country\",  \n",
    "                    animation_frame='Year',\n",
    "                    scope=\"africa\"\n",
    "                   )\n",
    "fig.update_geos(fitbounds=\"locations\", visible=False)\n",
    "fig.update_layout(margin={\"r\":0,\"t\":0,\"l\":0,\"b\":0})\n",
    "fig.show()"
   ]
  },
  {
   "cell_type": "markdown",
   "metadata": {},
   "source": [
    "> ### Statistic"
   ]
  },
  {
   "cell_type": "code",
   "execution_count": null,
   "metadata": {},
   "outputs": [],
   "source": [
    "# Creating a boxplot for the food consumption per country from 2004-2013\n",
    "\n",
    "fig = go.Figure()\n",
    "fig.add_trace(go.Box(y = foodsup_grouped.Value,\n",
    "                     x= foodsup_grouped.Year,\n",
    "                     boxpoints = \"suspectedoutliers\",\n",
    "                     boxmean = True,\n",
    "                     marker_color='rgb(9,56,125)',\n",
    "                     line_color='rgb(9,56,125)'\n",
    "))\n",
    "fig.update_layout(title_text=\"Food Consumption per Country from 2004-2013\", yaxis_title= \"Total Food Consumed\", xaxis_title = \"Year\")\n",
    "fig.show()"
   ]
  },
  {
   "cell_type": "markdown",
   "metadata": {},
   "source": [
    "> It can be observed that an outlier exists in the total food consumed for all the years except 2007 and 2013. The dataset for the year 2012 will be explored to identify the outlier and other statistics including the mean, median, first quartile, third quartile and interquartile range.\n",
    "> As with the production data, 2012 is the year with the largest outlier. Hence the data for 2012 will be explored and the outlier will be analysed"
   ]
  },
  {
   "cell_type": "code",
   "execution_count": null,
   "metadata": {},
   "outputs": [],
   "source": [
    "# Extracting the food consumption dataset for 2012 to be analysed\n",
    "\n",
    "foodsup_12 = foodsup.query('Year == 2012')"
   ]
  },
  {
   "cell_type": "code",
   "execution_count": null,
   "metadata": {},
   "outputs": [],
   "source": [
    "# To find the mean of the food consumption in 2012\n",
    "\n",
    "foodsup_12m = foodsup_12.Value.mean()\n",
    "foodsup_12m"
   ]
  },
  {
   "cell_type": "code",
   "execution_count": null,
   "metadata": {},
   "outputs": [],
   "source": [
    "# To find the median of the food consumption in 2012\n",
    "foodsup_12med = foodsup_12.Value.median()\n",
    "foodsup_12med"
   ]
  },
  {
   "cell_type": "code",
   "execution_count": null,
   "metadata": {},
   "outputs": [],
   "source": [
    "# Using numpy to compute the quartile and interquartile range\n",
    "\n",
    "Q3, Q1 = np.percentile(foodsup_12.Value, [75 ,25])\n",
    "Q3, Q1"
   ]
  },
  {
   "cell_type": "code",
   "execution_count": null,
   "metadata": {},
   "outputs": [],
   "source": [
    "# Computing the interquartile range\n",
    "\n",
    "IQR = np.subtract(*np.percentile(foodsup_12.Value, [75 ,25]))\n",
    "IQR"
   ]
  },
  {
   "cell_type": "code",
   "execution_count": null,
   "metadata": {},
   "outputs": [],
   "source": [
    "# Computing the upper and lower fence\n",
    "\n",
    "lowerfence = Q1 - 1.5*IQR\n",
    "upperfence = Q3 + 1.5*IQR\n",
    "upperfence, lowerfence"
   ]
  },
  {
   "cell_type": "code",
   "execution_count": null,
   "metadata": {},
   "outputs": [],
   "source": [
    "# Computing the outlier present in the total food consumption in 2012\n",
    "\n",
    "foodsup_12outliers = foodsup_12[(foodsup_12[\"Value\"] > upperfence) | (foodsup_12['Value'] < lowerfence)]\n",
    "foodsup_12outliers"
   ]
  },
  {
   "cell_type": "markdown",
   "metadata": {},
   "source": [
    "> The only outlier present in the food consumption for 2012 is Egypt with a total value of  consumed items."
   ]
  },
  {
   "cell_type": "code",
   "execution_count": null,
   "metadata": {},
   "outputs": [],
   "source": [
    "# Visualizing with a scatterplot to see how the food consumption in Egypt varied from other countries in 2012\n",
    "\n",
    "fig = px.scatter(foodsup_12, x=\"Country\", y=\"Value\", text =\"Country\")\n",
    "\n",
    "# adding horizontal lines to represent the mean, median, upper and lower fence.\n",
    "fig.update_layout(width=1000,\n",
    "                 height = 900,\n",
    "                 autosize=False, shapes=[\n",
    "                     #add lower fence, mean, median and upper fence lines\n",
    "                     dict(type= \"line\", xref= \"paper\", x0 = 0, x1 = 1, yref = \"y\", y0 = lowerfence, y1 = lowerfence, line = dict(color = 'Red', width = 1)),\n",
    "                     dict(type= \"line\", xref= \"paper\", x0 = 0, x1 = 1, yref = \"y\", y0 = foodsup_12m, y1 = foodsup_12m, line = dict(color = 'Orange', width = 1)),\n",
    "                     dict(type= \"line\", xref= \"paper\", x0 = 0, x1 = 1, yref = \"y\", y0 = foodsup_12med, y1 = foodsup_12med, line = dict(color = 'Blue', width = 1)),\n",
    "                     dict(type= \"line\", xref= \"paper\", x0 = 0, x1 = 1, yref = \"y\", y0 = upperfence, y1 = upperfence, line = dict(color = 'Green', width = 1))\n",
    "                 ], showlegend=False\n",
    "                 )\n",
    "\n",
    "fig.update_traces(textposition = \"top center\")\n",
    "fig.update_xaxes(showticklabels = False)\n",
    "fig.show()"
   ]
  },
  {
   "cell_type": "markdown",
   "metadata": {},
   "source": [
    "> From the analysis of both the food production and food supply/consumption data it can be observed that:\n",
    "Although Nigeria, Egypt and South Africa are the highest food producing countries, of these 3 countries only Egypt is recorded to have one of the highest food supply from 2004-2013.\n",
    "\n",
    "> Although correlation does not imply causation, it would be expected that the more food a country produces, the more food will be supplied or consumed. For Nigeria and South Africa, this isnt the case as can be observed. "
   ]
  },
  {
   "cell_type": "markdown",
   "metadata": {},
   "source": [
    "> ## Rice Production & Population"
   ]
  },
  {
   "cell_type": "markdown",
   "metadata": {},
   "source": [
    "> The high production of food in some African countries  between 2004 and 2013 may be influenced by its population. Although this is in no way certain, this idea may be measured using hypothesis testing. To understand and test this hypothesis, a particular food common to most countries will be used as a measure. In this case, `Rice (Milled Equivalent)` will be used.\n",
    "\n",
    "> The dataset containing `Rice (Milled Equivalent)` production for all countries between 2004 and 2013 will be extracted first from the `food production` dataset, then merged with `country code` dataset (contains the country code per country) and the `World Bank population` dataset (contains the measured population per country over a period of years) to create the test data to be used in measuring the proposed hypoyhesis."
   ]
  },
  {
   "cell_type": "markdown",
   "metadata": {},
   "source": [
    "For the hypothesis testing the proposed X and Y variables are:\n",
    "> - X = The amount of rice produced in a year in African countries.\n",
    "> - Y = The average population of African countries in a year.\n",
    "\n",
    "The proposed null and alternative hypothesis test statements to be used are given as: \n",
    "> Null Hypothesis: There is no significant correlation between the amount of rice produced in a year in African countries and the mean population of African countries in that year. i.e variables X and Y are not correlated.\n",
    ">> $H_0: U_{corr} =< 0$\n",
    ">> * where $H_0$ is the notation for null hypothesis.\n",
    ">> * $U_{corr}$ is the notation for correlation between X and Y.\n",
    "\n",
    ">  Alternative Hypothesis: There is a significant correlation between the amount of rice produced in a year in African countries and the mean population of African countries in that year. i.e There is a corrrelation between variables X and Y.\n",
    ">> $H_1: U_{corr} > 0$\n",
    ">> * where $H_1$ is the notation for alternative hypothesis.\n",
    ">> * $U_{corr}$ is the notation for correlation between X and Y."
   ]
  },
  {
   "cell_type": "code",
   "execution_count": null,
   "metadata": {},
   "outputs": [],
   "source": [
    "# Extracting the dataset for rice production in African countries over the years\n",
    "rice_df = foodprod.query(\"Item == 'Rice (Milled Equivalent)'\")\n",
    " \n",
    "# Finding the sum of values per country per year\n",
    "rice_tot = pd.DataFrame(rice_df.groupby(['Country', 'Year'], as_index = False)['Value'].sum())\n",
    "rice_tot"
   ]
  },
  {
   "cell_type": "code",
   "execution_count": null,
   "metadata": {},
   "outputs": [],
   "source": [
    "# Merging the rice dataset with the country code dataset\n",
    "rice_prod = pd.merge(rice_tot, code, on ='Country', how = 'inner')\n",
    "\n",
    "# Renaming the Value column in the rice production data\n",
    "rice_prod.rename(columns = {\"Value\":\"Rice Production (Kilotonnes)\"}, inplace=True)\n",
    "rice_prod.head()"
   ]
  },
  {
   "cell_type": "code",
   "execution_count": null,
   "metadata": {},
   "outputs": [],
   "source": [
    "# Importing the population dataset\n",
    "\n",
    "pop_data = pd.read_csv(\"Population data.csv\", skiprows = 4)\n",
    "pop_data.head()"
   ]
  },
  {
   "cell_type": "code",
   "execution_count": null,
   "metadata": {},
   "outputs": [],
   "source": [
    "# Dropping unwanted columns\n",
    "pop_data.drop(['Indicator Name', 'Indicator Code'], axis = 1, inplace =True)\n",
    "pop_data.head()\n",
    "\n",
    "# Extracting only the population recorded between 2004 and 2013\n",
    "pop_data = pop_data[['Country Name', 'Country Code', '2004', '2005', '2006', '2007', '2008', '2009', '2010', '2011', '2012', '2013']]\n",
    "pop_data.head()"
   ]
  },
  {
   "cell_type": "code",
   "execution_count": null,
   "metadata": {},
   "outputs": [],
   "source": [
    "# Cleaning the population dataset using the melt function to convert year rows to columns\n",
    "\n",
    "pop_df = pd.melt(\n",
    "    pop_data,\n",
    "    id_vars=[\"Country Name\", \"Country Code\"],\n",
    "    var_name = \"Year\",\n",
    "    value_name = \"Population\"\n",
    ")\n",
    "pop_df.head()"
   ]
  },
  {
   "cell_type": "code",
   "execution_count": null,
   "metadata": {},
   "outputs": [],
   "source": [
    "# Checking the datatype for columns in the newly cleaned population dataset\n",
    "pop_df.dtypes"
   ]
  },
  {
   "cell_type": "code",
   "execution_count": null,
   "metadata": {},
   "outputs": [],
   "source": [
    "# Converting the datatype in the Year column of the population dataset from object to integer\n",
    "pop_df[\"Year\"] = pop_df[\"Year\"].astype(int)\n",
    "\n",
    "# Dropping thr country name column\n",
    "pop_df.drop(\"Country Name\", axis = 1, inplace = True)"
   ]
  },
  {
   "cell_type": "code",
   "execution_count": null,
   "metadata": {},
   "outputs": [],
   "source": [
    "# Merging the population and rice production dataset using the country code and year\n",
    "\n",
    "pop_riceprod = pd.merge(rice_prod, pop_df, on= [\"Country Code\", \"Year\"], how = \"inner\")\n",
    "pop_riceprod.head()"
   ]
  },
  {
   "cell_type": "code",
   "execution_count": null,
   "metadata": {},
   "outputs": [],
   "source": [
    "# Computing the average rice production and popopulation per year\n",
    "\n",
    "test_data = pd.DataFrame(pop_riceprod.groupby(\"Year\", as_index=False).mean())\n",
    "test_data"
   ]
  },
  {
   "cell_type": "code",
   "execution_count": null,
   "metadata": {},
   "outputs": [],
   "source": [
    "# Performing the Pearson Correlation Test to measure the correlation between the average rice production and population\n",
    "\n",
    "from scipy import stats\n",
    "x = np.array(test_data['Rice Production (Kilotonnes)'])\n",
    "y = np.array(test_data['Population'])\n",
    "\n",
    "stats.pearsonr(x, y)"
   ]
  },
  {
   "cell_type": "markdown",
   "metadata": {},
   "source": [
    "> The results above show a high  positive correlation of 0.97and a p-value of 4.99 x 10e-6. This means that there’s a very strong correlation between X and Y, and such a small p-value suggests that the null hypothesis ($H_0$) is unlikely to be true. Therefore we reject the null hypothesis at the 5% level based on the Pearson Correlation test.\n",
    "\n",
    "> It can therefore be concluded that the correlation coefficient (0.97) is significantly far from 0 i.e., there is a significant correlation between mean rice production in a year and the mean population of African countries for that year.\n",
    "\n",
    "> It is also very important to state that correlation does not imply causation. Although there exists a strong correlation between population and rice production, this doesn’t necessarily mean that the production of rice drives population, or vice versa."
   ]
  },
  {
   "cell_type": "code",
   "execution_count": null,
   "metadata": {},
   "outputs": [],
   "source": [
    "# visualising the test data with a scatter plot\n",
    "\n",
    "fig = px.scatter(test_data, x = \"Rice Production (Kilotonnes)\", y = \"Population\", text = \"Year\", title=\"Population vs Rice Production (2004 - 2013)\")\n",
    "fig.show();"
   ]
  },
  {
   "cell_type": "markdown",
   "metadata": {},
   "source": [
    "> The scatterplot above shows a positive corrrelation between rice production and the population in African countries over the years. As the population increases, the average amount of rice produced tends to increase."
   ]
  },
  {
   "cell_type": "code",
   "execution_count": null,
   "metadata": {},
   "outputs": [],
   "source": [
    "# Creating a map plot of Africa showing how the production of rice varies per country over the years\n",
    "\n",
    "fig = px.choropleth(pop_riceprod, locations=\"Country Code\", \n",
    "                    color='Rice Production (Kilotonnes)', \n",
    "                    hover_name=\"Country\",  \n",
    "                    animation_frame='Year',\n",
    "                    scope=\"africa\"\n",
    "                   )\n",
    "fig.update_geos(fitbounds=\"locations\", visible=False)\n",
    "fig.update_layout(margin={\"r\":0,\"t\":0,\"l\":0,\"b\":0})\n",
    "fig.show()"
   ]
  },
  {
   "cell_type": "code",
   "execution_count": null,
   "metadata": {},
   "outputs": [],
   "source": [
    "# To obtain the top countries with the highest rice production in kilotonnes over the years\n",
    "\n",
    "top = pd.DataFrame(pop_riceprod.groupby(['Country', 'Year'], as_index = False)['Rice Production (Kilotonnes)'].sum())\n",
    "top.sort_values(by = 'Rice Production (Kilotonnes)', ascending= False, inplace =True)\n",
    "top"
   ]
  },
  {
   "cell_type": "code",
   "execution_count": null,
   "metadata": {},
   "outputs": [],
   "source": [
    "# Visualising in a plot the top countries with the highest rice production in kilotonnes over the years\n",
    "\n",
    "plt.subplots(figsize=(15,10))\n",
    "lineplt = sns.lineplot(x=top['Year'], y= top['Rice Production (Kilotonnes)'], hue=top['Country'], palette = 'bright', data=top, ci=None )\n",
    "lineplt.set_yscale('log')\n",
    "lineplt.legend(loc='upper right',bbox_to_anchor= (1.2, 1))\n",
    "\n",
    "plt.title('Average Rice Production in Kilotonnes  per Country')\n",
    "plt.xlabel('Country', fontsize = 12)\n",
    "plt.ylabel('Average Rice Production', fontsize = 12);"
   ]
  },
  {
   "cell_type": "markdown",
   "metadata": {},
   "source": [
    "> It can be observed that `Egypt`, `Nigeria` and `Madagascar` are the highest `Rice (Milled Equivalent)` producing countries between 2004 and 2013.\n",
    "> To compare if these 3 countries have any other products in common i.e Egypt, Nigeria and Madagascar, a dataframe will be created for each country with their total produce. Then the items in each of these dataframes will be compared to see what they have in common."
   ]
  },
  {
   "cell_type": "code",
   "execution_count": null,
   "metadata": {},
   "outputs": [],
   "source": [
    "# From the original production dataset, 3 dataframes for Egypt, Nigeria and Madagascar are extracted\n",
    "\n",
    "Egypt = foodprod.query('Country == \"Egypt\"')\n",
    "Nigeria = foodprod.query('Country == \"Nigeria\"')\n",
    "Madagascar = foodprod.query('Country == \"Madagascar\"')"
   ]
  },
  {
   "cell_type": "code",
   "execution_count": null,
   "metadata": {},
   "outputs": [],
   "source": [
    "# Comparing between Egypt and Nigeria to find other simmilar produced items between them\n",
    "\n",
    "Egy_Nig = Egypt['Item'][Egypt['Item'].isin(Nigeria['Item'])].unique()\n",
    "Egy_Nig"
   ]
  },
  {
   "cell_type": "code",
   "execution_count": null,
   "metadata": {},
   "outputs": [],
   "source": [
    "# To compute the total number of similar items produced by both Egypt and Nigeria\n",
    "\n",
    "len(Egy_Nig)"
   ]
  },
  {
   "cell_type": "code",
   "execution_count": null,
   "metadata": {},
   "outputs": [],
   "source": [
    "# Comparing between Egypt and Madagascar to find other simmilar produced items between them\n",
    "\n",
    "Egy_Mad= Egypt['Item'][Egypt['Item'].isin(Madagascar['Item'])].unique()\n",
    "Egy_Mad"
   ]
  },
  {
   "cell_type": "code",
   "execution_count": null,
   "metadata": {},
   "outputs": [],
   "source": [
    "# To compute the total number of similar items produced by both Egypt and Madagascar\n",
    "\n",
    "len(Egy_Mad)"
   ]
  },
  {
   "cell_type": "code",
   "execution_count": null,
   "metadata": {},
   "outputs": [],
   "source": [
    "# Comparing between Nigeria and Madagascar to find other simmilar produced items between them\n",
    "\n",
    "Nig_Mad= Nigeria['Item'][Nigeria['Item'].isin(Madagascar['Item'])].unique()\n",
    "Nig_Mad"
   ]
  },
  {
   "cell_type": "code",
   "execution_count": null,
   "metadata": {},
   "outputs": [],
   "source": [
    "# To compute the total number of similar items produced by both Nigeria and Madagascar\n",
    "\n",
    "len(Nig_Mad)"
   ]
  },
  {
   "cell_type": "markdown",
   "metadata": {},
   "source": [
    "### Food Supply & Population"
   ]
  },
  {
   "cell_type": "markdown",
   "metadata": {},
   "source": [
    "> The high production of food in some African countries does have a strong correlation with the population. A similar hypothesis will be tested on the food supply dataset to measure if the food supply in African countries is correlated with the average population of that country.\n",
    "\n",
    "> The merged supply dataset `merged_sup` containing the food supply and `country code` dataset (contains the country code per country) will be merged with the cleaned population dataset `pop_df` to create the test data to be used in measuring the proposed hypoyhesis."
   ]
  },
  {
   "cell_type": "markdown",
   "metadata": {},
   "source": [
    "For the hypothesis testing the proposed X and Y variables are:\n",
    "> - X = The amount of food supplied in a year in African countries.\n",
    "> - Y = The average population of African countries in a year.\n",
    "\n",
    "The proposed null and alternative hypothesis test statements to be used are given as: \n",
    "> Null Hypothesis: There is no significant correlation between the amount of food supplied in a year in African countries and the mean population of African countries in that year. i.e variables X and Y are not correlated.\n",
    ">> $H_0: U_{corr} =< 0$\n",
    ">> * where $H_0$ is the notation for null hypothesis.\n",
    ">> * $U_{corr}$ is the notation for correlation between X and Y.\n",
    "\n",
    ">  Alternative Hypothesis: There is a significant correlation between the amount of food supplied in a year in African countries and the mean population of African countries in that year. i.e There is a corrrelation between variables X and Y.\n",
    ">> $H_1: U_{corr} > 0$\n",
    ">> * where $H_1$ is the notation for alternative hypothesis.\n",
    ">> * $U_{corr}$ is the notation for correlation between X and Y."
   ]
  },
  {
   "cell_type": "code",
   "execution_count": null,
   "metadata": {},
   "outputs": [],
   "source": [
    "# Merging the merged_sup dataset with the country code dataset\n",
    "pop_sup = pd.merge(merged_sup, pop_df, on= [\"Country Code\", \"Year\"], how = \"inner\")\n",
    "\n",
    "# Renaming the Value column in the newly merged data\n",
    "pop_sup.rename(columns = {\"Value\":\"Food Supplied\"}, inplace=True)\n",
    "pop_sup.head()"
   ]
  },
  {
   "cell_type": "code",
   "execution_count": null,
   "metadata": {},
   "outputs": [],
   "source": [
    "# Computing the average food supply and popopulation per year\n",
    "\n",
    "test_datas = pd.DataFrame(pop_sup.groupby(\"Year\", as_index=False).mean())\n",
    "test_datas"
   ]
  },
  {
   "cell_type": "code",
   "execution_count": null,
   "metadata": {},
   "outputs": [],
   "source": [
    "# Performing the Pearson Correlation Test to measure the correlation between the average food supply and population\n",
    "\n",
    "from scipy import stats\n",
    "x = np.array(test_datas['Food Supplied'])\n",
    "y = np.array(test_datas['Population'])\n",
    "\n",
    "stats.pearsonr(x, y)"
   ]
  },
  {
   "cell_type": "markdown",
   "metadata": {},
   "source": [
    "> The results above show a high positive correlation of 0.99 and a p-value of 3.38 x 10e-8. This means that there’s a very strong correlation between X and Y, and such a small p-value suggests that the null hypothesis ($H_0$) is unlikely to be true. Therefore we reject the null hypothesis at the 5% level based on the Pearson Correlation test.\n",
    "\n",
    "> It can therefore be concluded that the correlation coefficient (0.99) is significantly far from 0 i.e., there is a significant correlation between mean food supplied in a year and the mean population of African countries for that year.\n",
    "\n",
    "> It is also very important to state that correlation does not imply causation. Although there exists a strong correlation between population and food supply, this doesn’t necessarily mean that the population drives food supply, or vice versa."
   ]
  },
  {
   "cell_type": "code",
   "execution_count": null,
   "metadata": {},
   "outputs": [],
   "source": [
    "# visualising the test_datas with a scatter plot\n",
    "\n",
    "fig = px.scatter(test_datas, x = \"Food Supplied\", y = \"Population\", text = \"Year\", title=\"Population vs Food Supply (2004 - 2013)\")\n",
    "fig.show();"
   ]
  },
  {
   "cell_type": "markdown",
   "metadata": {},
   "source": [
    "> The scatterplot above shows a positive corrrelation between food supplied and the population in African countries over the years. As the population increases, the average amount of food supplied tends to increase."
   ]
  },
  {
   "cell_type": "markdown",
   "metadata": {},
   "source": [
    "## Conclusion\n",
    "\n",
    "> From the analysis carried out above for the food produced and food supplied in African Countries between 2004 - 2013, it can be concluded that:\n",
    "> * There is a strong positive correlation between the average production of rice and the population between 2004 and 2013. \n",
    "> * There is also a strong positive correlation between the average food supplied and the population between 2004 and 2013.\n",
    "\n",
    "Although, this does not imply that an increase in population drives an increase in rice production, or that an increase in population drives an increase in food supply, it establishes the relationship between the two variables.\n",
    "> * The countries with the highest food production dont have high food supply i.e the amount of food supplied over the years is relatively smaller compared to the amount of food being produced.\n",
    "> * Although there is a high amount of food production and population over the years, there is a low amount smaller food supply when compared to the amount of food produced. It can be deduced that there is a possible food shortage in African countries between 2004 and 2013.\n",
    "> * Based on the data analysed and hypothesis tested, the population does have a strong correlated relationship with both the food production and food supply in Africa between 2004 & 2013. Fom the hypothesis result, population doesnt seem to explain the possible cause of the food shortage in Africa during this time. Although other factors may also contribute to the food shortage like price inflation, exportation or poor storage facilities etc this cannot be confirmed until extra data is available to analyse these possibilities. \n"
   ]
  }
 ],
 "metadata": {
  "kernelspec": {
   "display_name": "Python 3",
   "language": "python",
   "name": "python3"
  },
  "language_info": {
   "codemirror_mode": {
    "name": "ipython",
    "version": 3
   },
   "file_extension": ".py",
   "mimetype": "text/x-python",
   "name": "python",
   "nbconvert_exporter": "python",
   "pygments_lexer": "ipython3",
   "version": "3.7.7"
  }
 },
 "nbformat": 4,
 "nbformat_minor": 4
}
